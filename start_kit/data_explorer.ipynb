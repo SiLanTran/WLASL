{
 "cells": [
  {
   "cell_type": "code",
   "execution_count": 2,
   "source": [
    "import numpy as np\n",
    "import pandas as pd\n",
    "import matplotlib.pyplot as plt\n",
    "import seaborn as sns\n",
    "import json"
   ],
   "outputs": [],
   "metadata": {}
  },
  {
   "cell_type": "markdown",
   "source": [
    "This notebook explores the WLASL dataset, which stands for Word-Level-American-Sign-Language detection dataset. According to website description, the dataset consists of 2000 ASL words. For each word, there're multiple videos signed by different people representing the word"
   ],
   "metadata": {}
  },
  {
   "cell_type": "code",
   "execution_count": 17,
   "source": [
    "with open('WLASL_v0.3.json') as f:\n",
    "    data = json.load(f)"
   ],
   "outputs": [],
   "metadata": {}
  },
  {
   "cell_type": "markdown",
   "source": [
    "Each index position of `data` represents 1 gloss/word"
   ],
   "metadata": {}
  },
  {
   "cell_type": "code",
   "execution_count": 13,
   "source": [
    "print(f'data len: {len(data)}, item keys: {data[0].keys()}')"
   ],
   "outputs": [
    {
     "output_type": "stream",
     "name": "stdout",
     "text": [
      "data len: 2000, item keys: dict_keys(['gloss', 'instances'])\n"
     ]
    }
   ],
   "metadata": {}
  },
  {
   "cell_type": "markdown",
   "source": [
    "The `gloss` keyword gives the word. Each instance in `instances` is a specific video"
   ],
   "metadata": {}
  },
  {
   "cell_type": "code",
   "execution_count": 19,
   "source": [
    "word = data[0]['gloss']\n",
    "length = len(data[0]['instances'])\n",
    "print(f'the first word is {word} and has {length} videos')"
   ],
   "outputs": [
    {
     "output_type": "stream",
     "name": "stdout",
     "text": [
      "the first word is book and has 40 videos\n"
     ]
    }
   ],
   "metadata": {}
  },
  {
   "cell_type": "code",
   "execution_count": 20,
   "source": [
    "minLen = 1e9\n",
    "minWord = None\n",
    "for word_data in data:\n",
    "    if len(word_data['instances']) < minLen:\n",
    "        minLen = len(word_data['instances'])\n",
    "        minWord = word_data['gloss']\n",
    "print(f'{minWord} has least videos, only {minLen} videos')"
   ],
   "outputs": [
    {
     "output_type": "stream",
     "name": "stdout",
     "text": [
      "caterpillar has least videos, only 6 videos\n"
     ]
    }
   ],
   "metadata": {}
  },
  {
   "cell_type": "code",
   "execution_count": 23,
   "source": [
    "words = [word_data['gloss'] for word_data in data]\n",
    "print('the first 100 words are:')\n",
    "print(words[:100])"
   ],
   "outputs": [
    {
     "output_type": "stream",
     "name": "stdout",
     "text": [
      "the first 100 words are:\n",
      "['book', 'drink', 'computer', 'before', 'chair', 'go', 'clothes', 'who', 'candy', 'cousin', 'deaf', 'fine', 'help', 'no', 'thin', 'walk', 'year', 'yes', 'all', 'black', 'cool', 'finish', 'hot', 'like', 'many', 'mother', 'now', 'orange', 'table', 'thanksgiving', 'what', 'woman', 'bed', 'blue', 'bowling', 'can', 'dog', 'family', 'fish', 'graduate', 'hat', 'hearing', 'kiss', 'language', 'later', 'man', 'shirt', 'study', 'tall', 'white', 'wrong', 'accident', 'apple', 'bird', 'change', 'color', 'corn', 'cow', 'dance', 'dark', 'doctor', 'eat', 'enjoy', 'forget', 'give', 'last', 'meet', 'pink', 'pizza', 'play', 'school', 'secretary', 'short', 'time', 'want', 'work', 'africa', 'basketball', 'birthday', 'brown', 'but', 'cheat', 'city', 'cook', 'decide', 'full', 'how', 'jacket', 'letter', 'medicine', 'need', 'paint', 'paper', 'pull', 'purple', 'right', 'same', 'son', 'tell', 'thursday']\n"
     ]
    }
   ],
   "metadata": {}
  },
  {
   "cell_type": "markdown",
   "source": [
    "To further analyze these, words, we import \"google-10000-english-us\" file which contains the top 10000 most frequent English words (kudos to [this guy](https://github.com/first20hours/google-10000-english))"
   ],
   "metadata": {}
  },
  {
   "cell_type": "code",
   "execution_count": 28,
   "source": [
    "with open('google-10000-english-usa.txt') as f:\n",
    "    freq_words = f.read().splitlines()\n",
    "print('top 100 most frequent words: ')\n",
    "print(freq_words[:100])"
   ],
   "outputs": [
    {
     "output_type": "stream",
     "name": "stdout",
     "text": [
      "top 100 most frequent words: \n",
      "['the', 'of', 'and', 'to', 'a', 'in', 'for', 'is', 'on', 'that', 'by', 'this', 'with', 'i', 'you', 'it', 'not', 'or', 'be', 'are', 'from', 'at', 'as', 'your', 'all', 'have', 'new', 'more', 'an', 'was', 'we', 'will', 'home', 'can', 'us', 'about', 'if', 'page', 'my', 'has', 'search', 'free', 'but', 'our', 'one', 'other', 'do', 'no', 'information', 'time', 'they', 'site', 'he', 'up', 'may', 'what', 'which', 'their', 'news', 'out', 'use', 'any', 'there', 'see', 'only', 'so', 'his', 'when', 'contact', 'here', 'business', 'who', 'web', 'also', 'now', 'help', 'get', 'pm', 'view', 'online', 'c', 'e', 'first', 'am', 'been', 'would', 'how', 'were', 'me', 's', 'services', 'some', 'these', 'click', 'its', 'like', 'service', 'x', 'than', 'find']\n"
     ]
    }
   ],
   "metadata": {}
  },
  {
   "cell_type": "markdown",
   "source": [
    "Now we analyze the utility of the dataset by looking at how many of the top 2000 most frequent words appear in the dataset"
   ],
   "metadata": {}
  },
  {
   "cell_type": "code",
   "execution_count": 32,
   "source": [
    "count = 0\n",
    "for word in freq_words[:2000]:\n",
    "    if word in words:\n",
    "        count+=1\n",
    "print(f'out of the top 2000 most frequent words, {count} is in data')"
   ],
   "outputs": [
    {
     "output_type": "stream",
     "name": "stdout",
     "text": [
      "out of the top 2000 most frequent words, 820 is in data\n"
     ]
    }
   ],
   "metadata": {}
  },
  {
   "cell_type": "code",
   "execution_count": 34,
   "source": [
    "count = 0\n",
    "for word in freq_words[:1000]:\n",
    "    if word in words:\n",
    "        count+=1\n",
    "print(f'out of the top 1000 most frequent words, {count} is in data')"
   ],
   "outputs": [
    {
     "output_type": "stream",
     "name": "stdout",
     "text": [
      "out of the top 1000 most frequent words, 523 is in data\n"
     ]
    }
   ],
   "metadata": {}
  },
  {
   "cell_type": "code",
   "execution_count": 39,
   "source": [
    "count = 0\n",
    "for word in freq_words[:200]:\n",
    "    if word in words:\n",
    "        count+=1\n",
    "print(f'out of the top 200 most frequent words, {count} is in data')"
   ],
   "outputs": [
    {
     "output_type": "stream",
     "name": "stdout",
     "text": [
      "out of the top 200 most frequent words, 135 is in data\n"
     ]
    }
   ],
   "metadata": {}
  },
  {
   "cell_type": "code",
   "execution_count": 30,
   "source": [
    "count = 0\n",
    "for word in freq_words:\n",
    "    if word in words:\n",
    "        count+=1\n",
    "print(f'out of the top 10000 most frequent words, {count} is in data')"
   ],
   "outputs": [
    {
     "output_type": "stream",
     "name": "stdout",
     "text": [
      "out of the top 10000 most frequent words, 1629 is in data\n"
     ]
    }
   ],
   "metadata": {}
  },
  {
   "cell_type": "markdown",
   "source": [
    "Overall there's good overlap between the frequent words and ASL dataset words. Because it's ASL, some English words inherently are not in the ASL, so it's unsurprising that the overlap is imperfect"
   ],
   "metadata": {}
  },
  {
   "cell_type": "markdown",
   "source": [
    "Now another important metric of the dataset is the number of samples/videos for each word (particularly the frequent words), so we plot a histogram of word vs #samples"
   ],
   "metadata": {}
  },
  {
   "cell_type": "code",
   "execution_count": 52,
   "source": [
    "sample_count = []\n",
    "for word in freq_words[:50]:\n",
    "    if word not in words:\n",
    "        sample_count.append(0)\n",
    "        continue\n",
    "    sample_count.append(len(data[words.index(word)]['instances']))\n",
    "print(f'sample counts are {sample_count}')"
   ],
   "outputs": [
    {
     "output_type": "stream",
     "name": "stdout",
     "text": [
      "sample counts are [0, 0, 11, 11, 8, 11, 12, 0, 9, 12, 0, 8, 17, 7, 16, 0, 14, 7, 0, 0, 13, 0, 0, 15, 21, 17, 15, 15, 0, 0, 10, 12, 16, 20, 0, 15, 10, 10, 12, 0, 9, 8, 18, 7, 12, 11, 0, 22, 10, 19]\n"
     ]
    }
   ],
   "metadata": {}
  },
  {
   "cell_type": "code",
   "execution_count": 55,
   "source": [
    "plt.figure(figsize=(20, 3))\n",
    "plt.bar(freq_words[:50], height=sample_count, align='center', width=0.7)"
   ],
   "outputs": [
    {
     "output_type": "execute_result",
     "data": {
      "text/plain": [
       "<BarContainer object of 50 artists>"
      ]
     },
     "metadata": {},
     "execution_count": 55
    },
    {
     "output_type": "display_data",
     "data": {
      "image/png": "[encoded data removed]",
      "text/plain": [
       "<Figure size 1440x216 with 1 Axes>"
      ]
     },
     "metadata": {
      "needs_background": "light"
     }
    }
   ],
   "metadata": {}
  },
  {
   "cell_type": "markdown",
   "source": [
    "Unfortunately, there's no correlation of frequency of words with the number of videos/samples they have"
   ],
   "metadata": {}
  },
  {
   "cell_type": "markdown",
   "source": [
    "Finally let's look into what a single instance contains"
   ],
   "metadata": {}
  },
  {
   "cell_type": "code",
   "execution_count": 58,
   "source": [
    "instance = data[0]['instances'][0]\n",
    "print(instance)"
   ],
   "outputs": [
    {
     "output_type": "stream",
     "name": "stdout",
     "text": [
      "{'bbox': [385, 37, 885, 720], 'fps': 25, 'frame_end': -1, 'frame_start': 1, 'instance_id': 0, 'signer_id': 118, 'source': 'aslbrick', 'split': 'train', 'url': 'http://aslbricks.org/New/ASL-Videos/book.mp4', 'variation_id': 0, 'video_id': '69241'}\n"
     ]
    }
   ],
   "metadata": {}
  },
  {
   "cell_type": "markdown",
   "source": [
    "According to description, bbox is in the format of $(x_\\text{min}, y_\\text{min}, x_\\text{max}, y_\\text{max})$. frame_start, frame_end indicates where in the video the gloss begins (-1 means the last frame, 1 means the first frame). The video should be read in and decoded with the specified fps "
   ],
   "metadata": {}
  }
 ],
 "metadata": {
  "orig_nbformat": 4,
  "language_info": {
   "name": "python",
   "version": "3.9.7",
   "mimetype": "text/x-python",
   "codemirror_mode": {
    "name": "ipython",
    "version": 3
   },
   "pygments_lexer": "ipython3",
   "nbconvert_exporter": "python",
   "file_extension": ".py"
  },
  "kernelspec": {
   "name": "python3",
   "display_name": "Python 3.9.7 64-bit ('ml-venv': venv)"
  },
  "interpreter": {
   "hash": "9e18352fe61ca699d23a1ad95306b1cb7f348970ceaca7c655580a6420f95203"
  }
 },
 "nbformat": 4,
 "nbformat_minor": 2
}